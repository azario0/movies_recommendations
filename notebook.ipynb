{
 "cells": [
  {
   "cell_type": "markdown",
   "metadata": {},
   "source": [
    "# You can get the dataset from here\n",
    "https://www.kaggle.com/datasets/octopusteam/imdb-top-1000-tv-series"
   ]
  },
  {
   "cell_type": "markdown",
   "metadata": {},
   "source": [
    "# The imports "
   ]
  },
  {
   "cell_type": "code",
   "execution_count": 7,
   "metadata": {},
   "outputs": [],
   "source": [
    "import pandas as pd\n",
    "from langchain_google_genai import GoogleGenerativeAI\n",
    "from langchain.prompts import PromptTemplate\n",
    "from langchain.chains import LLMChain\n",
    "from typing import List, Set\n",
    "import pickle\n"
   ]
  },
  {
   "cell_type": "markdown",
   "metadata": {},
   "source": [
    "# Consultation and cleaning"
   ]
  },
  {
   "cell_type": "code",
   "execution_count": 3,
   "metadata": {},
   "outputs": [],
   "source": [
    "df = pd.read_csv('data.csv')"
   ]
  },
  {
   "cell_type": "code",
   "execution_count": 9,
   "metadata": {},
   "outputs": [
    {
     "data": {
      "text/plain": [
       "id               0\n",
       "title            0\n",
       "genres           0\n",
       "averageRating    0\n",
       "numVotes         0\n",
       "releaseYear      0\n",
       "dtype: int64"
      ]
     },
     "execution_count": 9,
     "metadata": {},
     "output_type": "execute_result"
    }
   ],
   "source": [
    "df.isnull().sum()"
   ]
  },
  {
   "cell_type": "code",
   "execution_count": 10,
   "metadata": {},
   "outputs": [
    {
     "data": {
      "text/html": [
       "<div>\n",
       "<style scoped>\n",
       "    .dataframe tbody tr th:only-of-type {\n",
       "        vertical-align: middle;\n",
       "    }\n",
       "\n",
       "    .dataframe tbody tr th {\n",
       "        vertical-align: top;\n",
       "    }\n",
       "\n",
       "    .dataframe thead th {\n",
       "        text-align: right;\n",
       "    }\n",
       "</style>\n",
       "<table border=\"1\" class=\"dataframe\">\n",
       "  <thead>\n",
       "    <tr style=\"text-align: right;\">\n",
       "      <th></th>\n",
       "      <th>id</th>\n",
       "      <th>title</th>\n",
       "      <th>genres</th>\n",
       "      <th>averageRating</th>\n",
       "      <th>numVotes</th>\n",
       "      <th>releaseYear</th>\n",
       "    </tr>\n",
       "  </thead>\n",
       "  <tbody>\n",
       "    <tr>\n",
       "      <th>0</th>\n",
       "      <td>tt0903747</td>\n",
       "      <td>Breaking Bad</td>\n",
       "      <td>Crime, Drama, Thriller</td>\n",
       "      <td>9.5</td>\n",
       "      <td>2222701</td>\n",
       "      <td>2008</td>\n",
       "    </tr>\n",
       "    <tr>\n",
       "      <th>1</th>\n",
       "      <td>tt5491994</td>\n",
       "      <td>Planet Earth II</td>\n",
       "      <td>Documentary</td>\n",
       "      <td>9.5</td>\n",
       "      <td>161347</td>\n",
       "      <td>2016</td>\n",
       "    </tr>\n",
       "    <tr>\n",
       "      <th>2</th>\n",
       "      <td>tt0185906</td>\n",
       "      <td>Band of Brothers</td>\n",
       "      <td>Drama, History, War</td>\n",
       "      <td>9.4</td>\n",
       "      <td>543177</td>\n",
       "      <td>2001</td>\n",
       "    </tr>\n",
       "    <tr>\n",
       "      <th>3</th>\n",
       "      <td>tt0795176</td>\n",
       "      <td>Planet Earth</td>\n",
       "      <td>Documentary, Family</td>\n",
       "      <td>9.4</td>\n",
       "      <td>222871</td>\n",
       "      <td>2006</td>\n",
       "    </tr>\n",
       "    <tr>\n",
       "      <th>4</th>\n",
       "      <td>tt5152226</td>\n",
       "      <td>Tree of Life</td>\n",
       "      <td>Drama</td>\n",
       "      <td>9.4</td>\n",
       "      <td>11663</td>\n",
       "      <td>2014</td>\n",
       "    </tr>\n",
       "  </tbody>\n",
       "</table>\n",
       "</div>"
      ],
      "text/plain": [
       "          id             title                  genres  averageRating  \\\n",
       "0  tt0903747      Breaking Bad  Crime, Drama, Thriller            9.5   \n",
       "1  tt5491994   Planet Earth II             Documentary            9.5   \n",
       "2  tt0185906  Band of Brothers     Drama, History, War            9.4   \n",
       "3  tt0795176      Planet Earth     Documentary, Family            9.4   \n",
       "4  tt5152226      Tree of Life                   Drama            9.4   \n",
       "\n",
       "   numVotes  releaseYear  \n",
       "0   2222701         2008  \n",
       "1    161347         2016  \n",
       "2    543177         2001  \n",
       "3    222871         2006  \n",
       "4     11663         2014  "
      ]
     },
     "execution_count": 10,
     "metadata": {},
     "output_type": "execute_result"
    }
   ],
   "source": [
    "df.head()"
   ]
  },
  {
   "cell_type": "code",
   "execution_count": 11,
   "metadata": {},
   "outputs": [],
   "source": [
    "df.drop(columns=['id'],inplace=True)"
   ]
  },
  {
   "cell_type": "markdown",
   "metadata": {},
   "source": [
    "# Initialization of the LLM"
   ]
  },
  {
   "cell_type": "code",
   "execution_count": null,
   "metadata": {},
   "outputs": [],
   "source": [
    "def initialize_llm(api_key: str):\n",
    "    \"\"\"Initialize the Google Generative AI with the specified API key.\"\"\"\n",
    "    return GoogleGenerativeAI(model=\"models/gemini-1.5-flash\", google_api_key=api_key)"
   ]
  },
  {
   "cell_type": "markdown",
   "metadata": {},
   "source": [
    "# Creating prompt templates"
   ]
  },
  {
   "cell_type": "code",
   "execution_count": null,
   "metadata": {},
   "outputs": [],
   "source": [
    "def create_prompt_templates():\n",
    "    \"\"\"Create prompt templates for genre matching and recommendations.\"\"\"\n",
    "    genre_prompt = PromptTemplate(\n",
    "        input_variables=[\"user_input\", \"available_genres\"],\n",
    "        template=\"\"\"\n",
    "        Given the following user input: {user_input}\n",
    "        \n",
    "        And these available genres: {available_genres}\n",
    "        \n",
    "        Please suggest the most relevant genres from the available list that match the user's input.\n",
    "        Return only the genre names separated by commas, without any additional explanation.\n",
    "        If no genres match, return \"No matching genres found\".\n",
    "        \"\"\"\n",
    "    )\n",
    "    recommendation_prompt = PromptTemplate(\n",
    "        input_variables=[\"user_input\", \"filtered_content\"],\n",
    "        template=\"\"\"\n",
    "        Based on the user's request: {user_input}\n",
    "        \n",
    "        And the following available content:\n",
    "        {filtered_content}\n",
    "        \n",
    "        Please provide a natural, conversational response that includes:\n",
    "        1. Relevant titles that match their interests\n",
    "        2. Release years for each recommendation\n",
    "        3. A brief explanation of why each title matches their request\n",
    "        \n",
    "        Focus on being helpful and informative while maintaining a natural tone.\n",
    "        If no content matches, explain that no exact matches were found and suggest broadening the search.\n",
    "        \"\"\"\n",
    "    )\n",
    "    return genre_prompt, recommendation_prompt"
   ]
  },
  {
   "cell_type": "markdown",
   "metadata": {},
   "source": [
    "# Extracting , getting suggested genres <br>and filtering contet"
   ]
  },
  {
   "cell_type": "code",
   "execution_count": null,
   "metadata": {},
   "outputs": [],
   "source": [
    "def extract_genres(df: pd.DataFrame) -> Set[str]:\n",
    "    \"\"\"Extract unique genres from the DataFrame.\"\"\"\n",
    "    all_genres = df['genres'].str.split(',').explode()\n",
    "    return {genre.strip() for genre in all_genres if isinstance(genre, str)}\n",
    "\n",
    "def get_suggested_genres(user_input: str, genres_set: Set[str], genre_chain: LLMChain) -> List[str]:\n",
    "    \"\"\"Get suggested genres based on user input.\"\"\"\n",
    "    available_genres = sorted(list(genres_set))\n",
    "    response = genre_chain.run(user_input=user_input, available_genres=\", \".join(available_genres))\n",
    "\n",
    "    if response.strip() == \"No matching genres found\":\n",
    "        return []\n",
    "\n",
    "    suggested_genres = [genre.strip() for genre in response.split(',')]\n",
    "    return [genre for genre in suggested_genres if genre in genres_set]\n",
    "\n",
    "def filter_content(df: pd.DataFrame, genres: List[str]) -> pd.DataFrame:\n",
    "    \"\"\"Filter content based on suggested genres.\"\"\"\n",
    "    if not genres:\n",
    "        return pd.DataFrame()\n",
    "    \n",
    "    mask = df['genres'].apply(\n",
    "        lambda x: any(genre.strip() in [g.strip() for g in x.split(',')] for genre in genres)\n",
    "    )\n",
    "    return df[mask]"
   ]
  },
  {
   "cell_type": "markdown",
   "metadata": {},
   "source": [
    "# Format content from prompt <br>and get recommendations"
   ]
  },
  {
   "cell_type": "code",
   "execution_count": null,
   "metadata": {},
   "outputs": [],
   "source": [
    "def format_content_for_prompt(filtered_df: pd.DataFrame) -> str:\n",
    "    \"\"\"Format filtered content for the LLM prompt.\"\"\"\n",
    "    if filtered_df.empty:\n",
    "        return \"No matching content found.\"\n",
    "    \n",
    "    content_list = [\n",
    "        f\"Title: {row['title']}\\nGenres: {row['genres']}\\nRelease Year: {row['releaseYear']}\\nRating: {row['averageRating']} (from {row['numVotes']} votes)\\n\"\n",
    "        for _, row in filtered_df.iterrows()\n",
    "    ]\n",
    "    return \"\\n\".join(content_list)\n",
    "\n",
    "def get_recommendations(user_input: str, df: pd.DataFrame, genres_set: Set[str], genre_chain: LLMChain, recommendation_chain: LLMChain) -> str:\n",
    "    \"\"\"Get content recommendations based on user input.\"\"\"\n",
    "    suggested_genres = get_suggested_genres(user_input, genres_set, genre_chain)\n",
    "    filtered_content = filter_content(df, suggested_genres)\n",
    "    formatted_content = format_content_for_prompt(filtered_content)\n",
    "    response = recommendation_chain.run(user_input=user_input, filtered_content=formatted_content)\n",
    "    return response"
   ]
  },
  {
   "cell_type": "markdown",
   "metadata": {},
   "source": [
    "# Running exemple"
   ]
  },
  {
   "cell_type": "code",
   "execution_count": 8,
   "metadata": {},
   "outputs": [
    {
     "name": "stdout",
     "output_type": "stream",
     "text": [
      "\n",
      "Query: I want to watch something random\n",
      "Recommendations:\n",
      "You're looking for something random, huh?  That's a tough one!  Let's see...  Since you didn't specify any genres, I'm going to recommend a mix of things to keep it interesting. \n",
      "\n",
      "How about **\"The Office\" (2005)**? It's a classic comedy that's always sure to make you laugh. Or maybe you'd prefer **\"Breaking Bad\" (2008)**, a gripping crime drama that'll keep you on the edge of your seat. If you're in the mood for something a bit more lighthearted, **\"Bluey\" (2018)** is a hilarious animated show perfect for the whole family. \n",
      "\n",
      "And if you're looking for something truly out there, **\"The Filthy Frank Show\" (2011)** is a wild and chaotic comedy that's sure to be a unique experience. \n",
      "\n",
      "If none of these sound appealing, you could try broadening your search by specifying some genres you're interested in or telling me a little more about what you're looking for.  Happy watching! \n",
      "\n",
      "--------------------------------------------------\n"
     ]
    }
   ],
   "source": [
    "# Initialize LLM and prompts\n",
    "api_key = \"YOUR_API_KEY\"  # Replace with actual API key\n",
    "llm = initialize_llm(api_key)\n",
    "genre_prompt, recommendation_prompt = create_prompt_templates()\n",
    "genre_chain = LLMChain(llm=llm, prompt=genre_prompt)\n",
    "recommendation_chain = LLMChain(llm=llm, prompt=recommendation_prompt)\n",
    "\n",
    "# Load data and extract genres\n",
    "\n",
    "genres_set = extract_genres(df)\n",
    "\n",
    "# Example usage\n",
    "example_queries = [\n",
    "    \"I want to watch something random\"\n",
    "]\n",
    "\n",
    "for query in example_queries:\n",
    "    print(f\"\\nQuery: {query}\")\n",
    "    recommendations = get_recommendations(query, df, genres_set, genre_chain, recommendation_chain)\n",
    "    print(\"Recommendations:\")\n",
    "    print(recommendations)\n",
    "    print(\"-\" * 50)\n"
   ]
  },
  {
   "cell_type": "markdown",
   "metadata": {},
   "source": [
    "# Saving genres and treated df"
   ]
  },
  {
   "cell_type": "code",
   "execution_count": 11,
   "metadata": {},
   "outputs": [],
   "source": [
    "with open('genres_set.pkl', 'wb') as f:\n",
    "    pickle.dump(genres_set, f)\n",
    "\n",
    "# Save DataFrame\n",
    "df.to_pickle('movies_df.pkl')"
   ]
  },
  {
   "cell_type": "code",
   "execution_count": null,
   "metadata": {},
   "outputs": [],
   "source": []
  }
 ],
 "metadata": {
  "kernelspec": {
   "display_name": "Python 3",
   "language": "python",
   "name": "python3"
  },
  "language_info": {
   "codemirror_mode": {
    "name": "ipython",
    "version": 3
   },
   "file_extension": ".py",
   "mimetype": "text/x-python",
   "name": "python",
   "nbconvert_exporter": "python",
   "pygments_lexer": "ipython3",
   "version": "3.10.12"
  }
 },
 "nbformat": 4,
 "nbformat_minor": 2
}
